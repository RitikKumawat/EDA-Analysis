{
 "cells": [
  {
   "cell_type": "code",
   "execution_count": 1,
   "id": "e36c6c8e",
   "metadata": {},
   "outputs": [],
   "source": [
    "import pandas as pd\n",
    "import matplotlib.pyplot as plt \n",
    "import seaborn as sns\n",
    "%matplotlib inline"
   ]
  },
  {
   "cell_type": "code",
   "execution_count": 2,
   "id": "bc91744f",
   "metadata": {},
   "outputs": [
    {
     "data": {
      "text/html": [
       "<div>\n",
       "<style scoped>\n",
       "    .dataframe tbody tr th:only-of-type {\n",
       "        vertical-align: middle;\n",
       "    }\n",
       "\n",
       "    .dataframe tbody tr th {\n",
       "        vertical-align: top;\n",
       "    }\n",
       "\n",
       "    .dataframe thead th {\n",
       "        text-align: right;\n",
       "    }\n",
       "</style>\n",
       "<table border=\"1\" class=\"dataframe\">\n",
       "  <thead>\n",
       "    <tr style=\"text-align: right;\">\n",
       "      <th></th>\n",
       "      <th>operator</th>\n",
       "      <th>inout_travelling</th>\n",
       "      <th>network_type</th>\n",
       "      <th>rating</th>\n",
       "      <th>calldrop_category</th>\n",
       "      <th>latitude</th>\n",
       "      <th>longitude</th>\n",
       "      <th>state_name</th>\n",
       "    </tr>\n",
       "  </thead>\n",
       "  <tbody>\n",
       "    <tr>\n",
       "      <th>0</th>\n",
       "      <td>BSNL</td>\n",
       "      <td>Indoor</td>\n",
       "      <td>3G</td>\n",
       "      <td>3</td>\n",
       "      <td>Satisfactory</td>\n",
       "      <td>-1.000000</td>\n",
       "      <td>-1.00000</td>\n",
       "      <td>NA</td>\n",
       "    </tr>\n",
       "    <tr>\n",
       "      <th>1</th>\n",
       "      <td>BSNL</td>\n",
       "      <td>Indoor</td>\n",
       "      <td>2G</td>\n",
       "      <td>3</td>\n",
       "      <td>Poor Voice Quality</td>\n",
       "      <td>-1.000000</td>\n",
       "      <td>-1.00000</td>\n",
       "      <td>NA</td>\n",
       "    </tr>\n",
       "    <tr>\n",
       "      <th>2</th>\n",
       "      <td>BSNL</td>\n",
       "      <td>Indoor</td>\n",
       "      <td>2G</td>\n",
       "      <td>3</td>\n",
       "      <td>Satisfactory</td>\n",
       "      <td>-1.000000</td>\n",
       "      <td>-1.00000</td>\n",
       "      <td>NA</td>\n",
       "    </tr>\n",
       "    <tr>\n",
       "      <th>3</th>\n",
       "      <td>BSNL</td>\n",
       "      <td>Indoor</td>\n",
       "      <td>3G</td>\n",
       "      <td>3</td>\n",
       "      <td>Satisfactory</td>\n",
       "      <td>-1.000000</td>\n",
       "      <td>-1.00000</td>\n",
       "      <td>NA</td>\n",
       "    </tr>\n",
       "    <tr>\n",
       "      <th>4</th>\n",
       "      <td>RJio</td>\n",
       "      <td>Outdoor</td>\n",
       "      <td>4G</td>\n",
       "      <td>4</td>\n",
       "      <td>Satisfactory</td>\n",
       "      <td>18.519782</td>\n",
       "      <td>73.85619</td>\n",
       "      <td>Maharashtra</td>\n",
       "    </tr>\n",
       "  </tbody>\n",
       "</table>\n",
       "</div>"
      ],
      "text/plain": [
       "  operator inout_travelling network_type  rating   calldrop_category  \\\n",
       "0     BSNL           Indoor           3G       3        Satisfactory   \n",
       "1     BSNL           Indoor           2G       3  Poor Voice Quality   \n",
       "2     BSNL           Indoor           2G       3        Satisfactory   \n",
       "3     BSNL           Indoor           3G       3        Satisfactory   \n",
       "4     RJio          Outdoor           4G       4        Satisfactory   \n",
       "\n",
       "    latitude  longitude   state_name  \n",
       "0  -1.000000   -1.00000          NA   \n",
       "1  -1.000000   -1.00000          NA   \n",
       "2  -1.000000   -1.00000          NA   \n",
       "3  -1.000000   -1.00000          NA   \n",
       "4  18.519782   73.85619  Maharashtra  "
      ]
     },
     "execution_count": 2,
     "metadata": {},
     "output_type": "execute_result"
    }
   ],
   "source": [
    "df = pd.read_csv('January_MyCall_2022.csv')\n",
    "df.head()"
   ]
  },
  {
   "cell_type": "markdown",
   "id": "7c603647",
   "metadata": {},
   "source": [
    "### This is a dataset which I downloaded from data.gov.in website. It contains Customers Feedback Captured using TRAI MyCAll App. Customers rates their experience about voice call quality in real time and help TRAI gather customer experience data along with Network data. The data contains information of January 2022"
   ]
  },
  {
   "cell_type": "code",
   "execution_count": 3,
   "id": "2ed18aa2",
   "metadata": {},
   "outputs": [
    {
     "name": "stdout",
     "output_type": "stream",
     "text": [
      "<class 'pandas.core.frame.DataFrame'>\n",
      "RangeIndex: 620 entries, 0 to 619\n",
      "Data columns (total 8 columns):\n",
      " #   Column             Non-Null Count  Dtype  \n",
      "---  ------             --------------  -----  \n",
      " 0   operator           620 non-null    object \n",
      " 1   inout_travelling   620 non-null    object \n",
      " 2   network_type       620 non-null    object \n",
      " 3   rating             620 non-null    int64  \n",
      " 4   calldrop_category  620 non-null    object \n",
      " 5   latitude           620 non-null    float64\n",
      " 6   longitude          620 non-null    float64\n",
      " 7   state_name         620 non-null    object \n",
      "dtypes: float64(2), int64(1), object(5)\n",
      "memory usage: 38.9+ KB\n"
     ]
    }
   ],
   "source": [
    "df.info()"
   ]
  },
  {
   "cell_type": "code",
   "execution_count": 4,
   "id": "a0f68811",
   "metadata": {},
   "outputs": [
    {
     "data": {
      "text/plain": [
       "<AxesSubplot:xlabel='operator', ylabel='count'>"
      ]
     },
     "execution_count": 4,
     "metadata": {},
     "output_type": "execute_result"
    },
    {
     "data": {
      "image/png": "[encoded data removed]",
      "text/plain": [
       "<Figure size 432x288 with 1 Axes>"
      ]
     },
     "metadata": {
      "needs_background": "light"
     },
     "output_type": "display_data"
    }
   ],
   "source": [
    "sns.countplot(x='operator',data=df,palette='rainbow')"
   ]
  },
  {
   "cell_type": "markdown",
   "id": "e5b12883",
   "metadata": {},
   "source": [
    "#### From the above countplot we can observe that the VI company has more customers around 300 to 330 out of 620 which means about 50% of the customers are using VI "
   ]
  },
  {
   "cell_type": "code",
   "execution_count": 5,
   "id": "32943018",
   "metadata": {},
   "outputs": [
    {
     "data": {
      "text/plain": [
       "<AxesSubplot:xlabel='inout_travelling', ylabel='count'>"
      ]
     },
     "execution_count": 5,
     "metadata": {},
     "output_type": "execute_result"
    },
    {
     "data": {
      "image/png": "[encoded data removed]",
      "text/plain": [
       "<Figure size 432x288 with 1 Axes>"
      ]
     },
     "metadata": {
      "needs_background": "light"
     },
     "output_type": "display_data"
    }
   ],
   "source": [
    "sns.countplot(x='inout_travelling',data=df,palette='dark:b')"
   ]
  },
  {
   "cell_type": "code",
   "execution_count": 6,
   "id": "368c6250",
   "metadata": {},
   "outputs": [
    {
     "data": {
      "text/plain": [
       "<AxesSubplot:xlabel='network_type', ylabel='count'>"
      ]
     },
     "execution_count": 6,
     "metadata": {},
     "output_type": "execute_result"
    },
    {
     "data": {
      "image/png": "[encoded data removed]",
      "text/plain": [
       "<Figure size 432x288 with 1 Axes>"
      ]
     },
     "metadata": {
      "needs_background": "light"
     },
     "output_type": "display_data"
    }
   ],
   "source": [
    "sns.countplot(x='network_type',data=df,palette='Greens')"
   ]
  },
  {
   "cell_type": "markdown",
   "id": "465f4bd7",
   "metadata": {},
   "source": [
    "#### More than 400 customers are using 4G network type"
   ]
  },
  {
   "cell_type": "code",
   "execution_count": 7,
   "id": "f5a172ce",
   "metadata": {},
   "outputs": [
    {
     "data": {
      "text/plain": [
       "<AxesSubplot:xlabel='rating', ylabel='count'>"
      ]
     },
     "execution_count": 7,
     "metadata": {},
     "output_type": "execute_result"
    },
    {
     "data": {
      "image/png": "[encoded data removed]",
      "text/plain": [
       "<Figure size 432x288 with 1 Axes>"
      ]
     },
     "metadata": {
      "needs_background": "light"
     },
     "output_type": "display_data"
    }
   ],
   "source": [
    "sns.countplot(x=df['rating'],hue='operator',data=df)"
   ]
  },
  {
   "cell_type": "code",
   "execution_count": 8,
   "id": "5120e625",
   "metadata": {},
   "outputs": [
    {
     "data": {
      "text/plain": [
       "<seaborn.axisgrid.FacetGrid at 0x1df734405e0>"
      ]
     },
     "execution_count": 8,
     "metadata": {},
     "output_type": "execute_result"
    },
    {
     "data": {
      "image/png": "[encoded data removed]",
      "text/plain": [
       "<Figure size 720x360 with 1 Axes>"
      ]
     },
     "metadata": {
      "needs_background": "light"
     },
     "output_type": "display_data"
    }
   ],
   "source": [
    "sns.catplot(x='operator',y='rating',data=df,kind='box',aspect=2)"
   ]
  },
  {
   "cell_type": "markdown",
   "id": "88bf2c9c",
   "metadata": {},
   "source": [
    "#### Only the VI company receives the highest rating of 5 , Lets see how many customers has given a rating of 5 to VI "
   ]
  },
  {
   "cell_type": "code",
   "execution_count": 9,
   "id": "0dc60db2",
   "metadata": {},
   "outputs": [],
   "source": [
    "vi_df = df.loc[df.operator=='VI']"
   ]
  },
  {
   "cell_type": "code",
   "execution_count": 10,
   "id": "0c0bf039",
   "metadata": {},
   "outputs": [
    {
     "data": {
      "text/plain": [
       "Text(0.5, 0, 'Ratings Of VI company')"
      ]
     },
     "execution_count": 10,
     "metadata": {},
     "output_type": "execute_result"
    },
    {
     "data": {
      "image/png": "[encoded data removed]",
      "text/plain": [
       "<Figure size 432x288 with 1 Axes>"
      ]
     },
     "metadata": {
      "needs_background": "light"
     },
     "output_type": "display_data"
    }
   ],
   "source": [
    "sns.countplot(x='rating',data=vi_df,palette='Reds')\n",
    "plt.xlabel('Ratings Of VI company')"
   ]
  },
  {
   "cell_type": "code",
   "execution_count": 11,
   "id": "b4bdc665",
   "metadata": {},
   "outputs": [
    {
     "data": {
      "text/plain": [
       "<AxesSubplot:xlabel='calldrop_category', ylabel='count'>"
      ]
     },
     "execution_count": 11,
     "metadata": {},
     "output_type": "execute_result"
    },
    {
     "data": {
      "image/png": "[encoded data removed]",
      "text/plain": [
       "<Figure size 432x288 with 1 Axes>"
      ]
     },
     "metadata": {
      "needs_background": "light"
     },
     "output_type": "display_data"
    }
   ],
   "source": [
    "sns.countplot(x='calldrop_category',hue='operator',data=df)"
   ]
  },
  {
   "cell_type": "markdown",
   "id": "d493d069",
   "metadata": {},
   "source": [
    "#### Among all the operators only company which received the highest satisfactory results is VI "
   ]
  },
  {
   "cell_type": "code",
   "execution_count": 12,
   "id": "5d8631eb",
   "metadata": {},
   "outputs": [
    {
     "data": {
      "text/plain": [
       "<AxesSubplot:xlabel='calldrop_category', ylabel='count'>"
      ]
     },
     "execution_count": 12,
     "metadata": {},
     "output_type": "execute_result"
    },
    {
     "data": {
      "image/png": "[encoded data removed]",
      "text/plain": [
       "<Figure size 432x288 with 1 Axes>"
      ]
     },
     "metadata": {
      "needs_background": "light"
     },
     "output_type": "display_data"
    }
   ],
   "source": [
    "sns.countplot(x='calldrop_category',hue='network_type',data=df)"
   ]
  },
  {
   "cell_type": "code",
   "execution_count": 13,
   "id": "e12df3f2",
   "metadata": {},
   "outputs": [],
   "source": [
    "bsnl_df = df.loc[df.operator=='BSNL']\n",
    "rjio_df = df.loc[df.operator=='RJio']\n",
    "airtel_df = df.loc[df.operator=='Airtel']\n",
    "mntl_df = df.loc[df.operator=='MNTL']"
   ]
  },
  {
   "cell_type": "code",
   "execution_count": 14,
   "id": "0ea8e65e",
   "metadata": {},
   "outputs": [
    {
     "data": {
      "text/plain": [
       "Text(0.5, 1.0, 'Calldrop_category for VI')"
      ]
     },
     "execution_count": 14,
     "metadata": {},
     "output_type": "execute_result"
    },
    {
     "data": {
      "image/png": "[encoded data removed]",
      "text/plain": [
       "<Figure size 432x288 with 1 Axes>"
      ]
     },
     "metadata": {
      "needs_background": "light"
     },
     "output_type": "display_data"
    }
   ],
   "source": [
    "\n",
    "sns.countplot(x='calldrop_category',data=vi_df)\n",
    "plt.title('Calldrop_category for VI')"
   ]
  },
  {
   "cell_type": "code",
   "execution_count": 15,
   "id": "9540dee3",
   "metadata": {},
   "outputs": [
    {
     "data": {
      "text/plain": [
       "Text(0.5, 1.0, 'Calldrop_category for BSNL')"
      ]
     },
     "execution_count": 15,
     "metadata": {},
     "output_type": "execute_result"
    },
    {
     "data": {
      "image/png": "[encoded data removed]",
      "text/plain": [
       "<Figure size 432x288 with 1 Axes>"
      ]
     },
     "metadata": {
      "needs_background": "light"
     },
     "output_type": "display_data"
    }
   ],
   "source": [
    "sns.countplot(x='calldrop_category',data=bsnl_df)\n",
    "plt.title('Calldrop_category for BSNL')"
   ]
  },
  {
   "cell_type": "code",
   "execution_count": 16,
   "id": "f9a199fd",
   "metadata": {},
   "outputs": [
    {
     "data": {
      "text/plain": [
       "Text(0.5, 1.0, 'Calldrop_category for RJio')"
      ]
     },
     "execution_count": 16,
     "metadata": {},
     "output_type": "execute_result"
    },
    {
     "data": {
      "image/png": "[encoded data removed]",
      "text/plain": [
       "<Figure size 432x288 with 1 Axes>"
      ]
     },
     "metadata": {
      "needs_background": "light"
     },
     "output_type": "display_data"
    }
   ],
   "source": [
    "sns.countplot(x='calldrop_category',data=rjio_df)\n",
    "plt.title('Calldrop_category for RJio')"
   ]
  },
  {
   "cell_type": "code",
   "execution_count": 17,
   "id": "a0c6865b",
   "metadata": {},
   "outputs": [
    {
     "data": {
      "text/plain": [
       "Text(0.5, 1.0, 'Calldrop_category for Airtel')"
      ]
     },
     "execution_count": 17,
     "metadata": {},
     "output_type": "execute_result"
    },
    {
     "data": {
      "image/png": "[encoded data removed]",
      "text/plain": [
       "<Figure size 432x288 with 1 Axes>"
      ]
     },
     "metadata": {
      "needs_background": "light"
     },
     "output_type": "display_data"
    }
   ],
   "source": [
    "sns.countplot(x='calldrop_category',data=airtel_df)\n",
    "plt.title('Calldrop_category for Airtel')"
   ]
  },
  {
   "cell_type": "code",
   "execution_count": null,
   "id": "75cf82a4",
   "metadata": {},
   "outputs": [],
   "source": []
  },
  {
   "cell_type": "code",
   "execution_count": null,
   "id": "59f6d917",
   "metadata": {},
   "outputs": [],
   "source": []
  }
 ],
 "metadata": {
  "kernelspec": {
   "display_name": "Python 3 (ipykernel)",
   "language": "python",
   "name": "python3"
  },
  "language_info": {
   "codemirror_mode": {
    "name": "ipython",
    "version": 3
   },
   "file_extension": ".py",
   "mimetype": "text/x-python",
   "name": "python",
   "nbconvert_exporter": "python",
   "pygments_lexer": "ipython3",
   "version": "3.10.2"
  }
 },
 "nbformat": 4,
 "nbformat_minor": 5
}
